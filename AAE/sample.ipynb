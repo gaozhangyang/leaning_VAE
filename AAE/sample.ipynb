{
 "cells": [
  {
   "cell_type": "code",
   "execution_count": 2,
   "metadata": {},
   "outputs": [],
   "source": [
    "import os\n",
    "import numpy as np\n",
    "import math\n",
    "import itertools\n",
    "\n",
    "import torchvision.transforms as transforms\n",
    "from torchvision.utils import save_image\n",
    "\n",
    "from torch.utils.data import DataLoader\n",
    "from torchvision import datasets\n",
    "from torch.autograd import Variable\n",
    "\n",
    "import torch.nn as nn\n",
    "import torch.nn.functional as F\n",
    "import torch\n",
    "from tensorboardX import SummaryWriter\n",
    "import globalvar as gl"
   ]
  },
  {
   "cell_type": "code",
   "execution_count": 9,
   "metadata": {},
   "outputs": [],
   "source": [
    "batch_size=64\n",
    "lr=0.0002#adam: learning rate\n",
    "b1=0.5#adam: decay of first order momentum of gradient\n",
    "b2=0.999#adam: decay of first order momentum of gradient\n",
    "n_cpu=8#number of cpu threads to use during batch generation\n",
    "h_dim=128\n",
    "latent_dim=2#dimensionality of the latent code\n",
    "img_size=28#size of each image dimension\n",
    "channels=1#number of image channels\n",
    "sample_interval=400#interval between image sampling\n",
    "img_shape = (channels, img_size, img_size)\n",
    "cuda = True if torch.cuda.is_available() else False\n",
    "log_dir=os.path.join(os.path.abspath('.'),'log{}d'.format(latent_dim))\n",
    "C_VAE=False\n",
    "\n",
    "\n",
    "gl._init()\n",
    "gl.set_value('log_dir',log_dir)\n",
    "gl.set_value('batch_size',batch_size)\n",
    "gl.set_value('lr',lr)\n",
    "gl.set_value('b1',b1)\n",
    "gl.set_value('b2',b2)\n",
    "gl.set_value('n_cpu',n_cpu)\n",
    "gl.set_value('h_dim',h_dim)\n",
    "gl.set_value('latent_dim',latent_dim)\n",
    "gl.set_value('img_size',img_size)\n",
    "gl.set_value('channels',channels)\n",
    "gl.set_value('sample_interval',sample_interval)\n",
    "gl.set_value('img_shape',img_shape)\n",
    "gl.set_value('cuda',cuda)\n",
    "gl.set_value('C_VAE',C_VAE)"
   ]
  },
  {
   "cell_type": "code",
   "execution_count": 10,
   "metadata": {},
   "outputs": [],
   "source": [
    "import imp\n",
    "import base\n",
    "imp.reload(base)\n",
    "model=base.AAE()"
   ]
  },
  {
   "cell_type": "code",
   "execution_count": 11,
   "metadata": {},
   "outputs": [],
   "source": [
    "e_epoch=100"
   ]
  },
  {
   "cell_type": "code",
   "execution_count": 12,
   "metadata": {},
   "outputs": [],
   "source": [
    "model.load(log_dir,e_epoch=e_epoch)"
   ]
  },
  {
   "cell_type": "code",
   "execution_count": 13,
   "metadata": {},
   "outputs": [],
   "source": [
    "base.sample2d(model.decoder,xscope=[-4,5,0.5],yscope=[-4,5,0.5],c=None,path=os.path.join(log_dir,'images'),name='AAE.png')"
   ]
  }
 ],
 "metadata": {
  "kernelspec": {
   "display_name": "Python 3",
   "language": "python",
   "name": "python3"
  },
  "language_info": {
   "codemirror_mode": {
    "name": "ipython",
    "version": 3
   },
   "file_extension": ".py",
   "mimetype": "text/x-python",
   "name": "python",
   "nbconvert_exporter": "python",
   "pygments_lexer": "ipython3",
   "version": "3.6.8"
  },
  "toc": {
   "base_numbering": 1,
   "nav_menu": {},
   "number_sections": true,
   "sideBar": true,
   "skip_h1_title": false,
   "title_cell": "Table of Contents",
   "title_sidebar": "Contents",
   "toc_cell": false,
   "toc_position": {},
   "toc_section_display": true,
   "toc_window_display": false
  },
  "varInspector": {
   "cols": {
    "lenName": 16,
    "lenType": 16,
    "lenVar": 40
   },
   "kernels_config": {
    "python": {
     "delete_cmd_postfix": "",
     "delete_cmd_prefix": "del ",
     "library": "var_list.py",
     "varRefreshCmd": "print(var_dic_list())"
    },
    "r": {
     "delete_cmd_postfix": ") ",
     "delete_cmd_prefix": "rm(",
     "library": "var_list.r",
     "varRefreshCmd": "cat(var_dic_list()) "
    }
   },
   "types_to_exclude": [
    "module",
    "function",
    "builtin_function_or_method",
    "instance",
    "_Feature"
   ],
   "window_display": false
  }
 },
 "nbformat": 4,
 "nbformat_minor": 2
}
