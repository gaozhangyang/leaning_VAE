{
 "cells": [
  {
   "cell_type": "code",
   "execution_count": 1,
   "metadata": {},
   "outputs": [],
   "source": [
    "import numpy as np\n",
    "import torch\n",
    "import torch.nn as nn\n",
    "import torch.nn.functional as F\n",
    "import torch.optim as optim\n",
    "import torch.utils.data\n",
    "from torchvision import datasets, transforms\n",
    "from collections import defaultdict\n",
    "from tensorboardX import SummaryWriter\n",
    "from torchvision.utils import make_grid\n",
    "import os\n",
    "import sys\n",
    "sys.path.append('../')\n",
    "from hyperspherical_vae.distributions import VonMisesFisher\n",
    "from hyperspherical_vae.distributions import HypersphericalUniform\n",
    "import globalvar as gl"
   ]
  },
  {
   "cell_type": "code",
   "execution_count": 2,
   "metadata": {},
   "outputs": [],
   "source": [
    "seed = 1\n",
    "use_cuda = torch.cuda.is_available()\n",
    "torch.manual_seed(seed)\n",
    "device = torch.device(\"cuda:0\" if use_cuda else \"cpu\")\n",
    "log_interval = 100\n",
    "batch_size=64\n",
    "n_cpu=8\n",
    "h_dim=128\n",
    "latent_dim=2\n",
    "img_size=28\n",
    "lr=1e-3\n",
    "distribution='vmf'\n",
    "# distribution='normal'\n",
    "C_VAE=True\n",
    "if C_VAE==False:\n",
    "    log_dir=os.path.join(os.path.abspath('.'),'log{}d'.format(latent_dim))\n",
    "else:\n",
    "    log_dir=os.path.join(os.path.abspath('.'),'log{}d_CVAE'.format(latent_dim))\n",
    "\n",
    "gl._init()\n",
    "gl.set_value('use_cuda',use_cuda)\n",
    "gl.set_value('device',device)\n",
    "gl.set_value('log_interval',log_interval)\n",
    "gl.set_value('log_dir',log_dir)\n",
    "gl.set_value('batch_size',batch_size)\n",
    "gl.set_value('n_cpu',n_cpu)\n",
    "gl.set_value('h_dim',h_dim)\n",
    "gl.set_value('latent_dim',latent_dim)\n",
    "gl.set_value('img_size',img_size)\n",
    "gl.set_value('lr',lr)\n",
    "gl.set_value('distribution',distribution)\n",
    "gl.set_value('C_VAE',C_VAE)"
   ]
  },
  {
   "cell_type": "code",
   "execution_count": 3,
   "metadata": {},
   "outputs": [],
   "source": [
    "import imp\n",
    "import base\n",
    "imp.reload(base)\n",
    "model=base.VAE()"
   ]
  },
  {
   "cell_type": "code",
   "execution_count": 4,
   "metadata": {},
   "outputs": [],
   "source": [
    "e_epoch=100"
   ]
  },
  {
   "cell_type": "code",
   "execution_count": 7,
   "metadata": {},
   "outputs": [],
   "source": [
    "model.load(log_dir,e_epoch=e_epoch)"
   ]
  },
  {
   "cell_type": "code",
   "execution_count": 54,
   "metadata": {},
   "outputs": [
    {
     "name": "stdout",
     "output_type": "stream",
     "text": [
      "warning: Embedding dir exists, did you set global_step for add_embedding()?\n"
     ]
    }
   ],
   "source": [
    "# xscope=np.arange(-4,4.5,0.2)\n",
    "# yscope=np.arange(4,-4.5,-0.2)\n",
    "# c=0*np.ones((L,1))\n",
    "\n",
    "r=1\n",
    "scope=0.05\n",
    "x=np.cos(np.arange(0,2*np.pi*r,scope*np.pi)/r).reshape(-1,1)\n",
    "y=np.sin(np.arange(0,2*np.pi*r,scope*np.pi)/r).reshape(-1,1)\n",
    "points1=np.hstack((x,y))*r\n",
    "points=points1\n",
    "\n",
    "# r=2\n",
    "# x=np.cos(np.arange(0,2*np.pi*r,scope*np.pi)/r).reshape(-1,1)\n",
    "# y=np.sin(np.arange(0,2*np.pi*r,scope*np.pi)/r).reshape(-1,1)\n",
    "# points2=np.hstack((x,y))*r\n",
    "\n",
    "# r=3\n",
    "# x=np.cos(np.arange(0,2*np.pi*r,scope*np.pi)/r).reshape(-1,1)\n",
    "# y=np.sin(np.arange(0,2*np.pi*r,scope*np.pi)/r).reshape(-1,1)\n",
    "# points3=np.hstack((x,y))*r\n",
    "\n",
    "# r=4\n",
    "# x=np.cos(np.arange(0,2*np.pi*r,scope*np.pi)/r).reshape(-1,1)\n",
    "# y=np.sin(np.arange(0,2*np.pi*r,scope*np.pi)/r).reshape(-1,1)\n",
    "# points4=np.hstack((x,y))*r\n",
    "\n",
    "# points=np.vstack((points1,points2,points3,points4))\n",
    "\n",
    "\n",
    "# i=1\n",
    "# for x in np.arange(-4,4.1,0.5):\n",
    "#     for y in np.arange(-4,4.1,0.5):\n",
    "#         i=i+1\n",
    "        \n",
    "# points=np.zeros((i,2))\n",
    "# i=0\n",
    "# for x in np.arange(-4,4.1,0.5):\n",
    "#     for y in np.arange(-4,4.1,0.5):\n",
    "#         points[i,0]=x\n",
    "#         points[i,1]=y\n",
    "#         i=i+1\n",
    "\n",
    "# c=None\n",
    "c=np.ones((points.shape[0],1))*(6)\n",
    "\n",
    "name='sVAE'\n",
    "\n",
    "\n",
    "base.sample2d(model.decoder,\n",
    "              points,\n",
    "              c=c,\n",
    "              path=os.path.join(log_dir,'images/decoder'),\n",
    "              name='{}.png'.format(name))"
   ]
  }
 ],
 "metadata": {
  "kernelspec": {
   "display_name": "Python 3",
   "language": "python",
   "name": "python3"
  },
  "language_info": {
   "codemirror_mode": {
    "name": "ipython",
    "version": 3
   },
   "file_extension": ".py",
   "mimetype": "text/x-python",
   "name": "python",
   "nbconvert_exporter": "python",
   "pygments_lexer": "ipython3",
   "version": "3.6.8"
  },
  "toc": {
   "base_numbering": 1,
   "nav_menu": {},
   "number_sections": true,
   "sideBar": true,
   "skip_h1_title": false,
   "title_cell": "Table of Contents",
   "title_sidebar": "Contents",
   "toc_cell": false,
   "toc_position": {},
   "toc_section_display": true,
   "toc_window_display": false
  },
  "varInspector": {
   "cols": {
    "lenName": 16,
    "lenType": 16,
    "lenVar": 40
   },
   "kernels_config": {
    "python": {
     "delete_cmd_postfix": "",
     "delete_cmd_prefix": "del ",
     "library": "var_list.py",
     "varRefreshCmd": "print(var_dic_list())"
    },
    "r": {
     "delete_cmd_postfix": ") ",
     "delete_cmd_prefix": "rm(",
     "library": "var_list.r",
     "varRefreshCmd": "cat(var_dic_list()) "
    }
   },
   "types_to_exclude": [
    "module",
    "function",
    "builtin_function_or_method",
    "instance",
    "_Feature"
   ],
   "window_display": false
  }
 },
 "nbformat": 4,
 "nbformat_minor": 2
}
